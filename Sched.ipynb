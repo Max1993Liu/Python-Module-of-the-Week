{
 "cells": [
  {
   "cell_type": "markdown",
   "metadata": {},
   "source": [
    "> The sched module implements a generic event scheduler for running tasks at specific times. The scheduler class uses a time function to learn the current time, and a delay function to wait for a specific period of time. The actual units of time are not important, which makes the interface flexible enough to be used for many purposes.\n",
    "\n",
    "> The time function is called without any arguments, and should return a number representing the current time. The delay function is called with a single integer argument, using the same scale as the time function, and should wait that many time units before returning. By default monotonic() and sleep() from time are used, but the examples in this section use time.time(), which also meets the requirements, because it makes the output easier to understand.\n",
    "\n",
    "> To support multi-threaded applications, the delay function is called with argument 0 after each event is generated, to ensure that other threads also have a chance to run."
   ]
  },
  {
   "cell_type": "markdown",
   "metadata": {},
   "source": [
    "## Runing events with a delay\n",
    "Events can be scheduled to run after a delay, or at a specific time. To schedule them with a delay, use the enter() method, which takes four arguments.\n",
    "\n",
    "1. A number representing the delay\n",
    "2. A priority value\n",
    "3. The function to call\n",
    "4. A tuple of arguments for the function  "
   ]
  },
  {
   "cell_type": "code",
   "execution_count": 5,
   "metadata": {
    "collapsed": false
   },
   "outputs": [
    {
     "name": "stdout",
     "output_type": "stream",
     "text": [
      "START: Fri Jun 30 10:44:54 2017\n",
      "EVENT: Fri Jun 30 10:44:56 2017 elapsed=2 name=first\n",
      "EVENT: Fri Jun 30 10:44:57 2017 elapsed=3 name=second\n"
     ]
    }
   ],
   "source": [
    "import sched\n",
    "import time\n",
    "\n",
    "scheduler = sched.scheduler(time.time, time.sleep)\n",
    "\n",
    "def print_event(name, start):\n",
    "    now = time.time()\n",
    "    elapsed = int(now - start)\n",
    "    print('EVENT: {} elapsed={} name={}'.format(\n",
    "        time.ctime(now), elapsed, name))\n",
    "\n",
    "\n",
    "start = time.time()\n",
    "print('START:', time.ctime(start))\n",
    "scheduler.enter(2, 1, print_event, ('first', start))\n",
    "scheduler.enter(3, 1, print_event, ('second', start))\n",
    "\n",
    "scheduler.run()"
   ]
  },
  {
   "cell_type": "markdown",
   "metadata": {},
   "source": [
    "## Overlapping Events\n",
    "\n",
    "> The call to run() blocks until all of the events have been processed. Each event is run in the same thread, so if an event takes longer to run than the delay between events, there will be overlap. The overlap is resolved by postponing the later event. No events are lost, but some events may be called later than they were scheduled. In the next example, long_event() sleeps but it could just as easily delay by performing a long calculation or by blocking on I/O."
   ]
  },
  {
   "cell_type": "code",
   "execution_count": 6,
   "metadata": {
    "collapsed": false
   },
   "outputs": [
    {
     "name": "stdout",
     "output_type": "stream",
     "text": [
      "START: Fri Jun 30 10:47:22 2017\n",
      "BEGIN EVENT : Fri Jun 30 10:47:24 2017 first\n",
      "FINISH EVENT: Fri Jun 30 10:47:26 2017 first\n",
      "BEGIN EVENT : Fri Jun 30 10:47:26 2017 second\n",
      "FINISH EVENT: Fri Jun 30 10:47:28 2017 second\n"
     ]
    }
   ],
   "source": [
    "import sched\n",
    "import time\n",
    "\n",
    "scheduler = sched.scheduler(time.time, time.sleep)\n",
    "\n",
    "def long_event(name):\n",
    "    print('BEGIN EVENT :', time.ctime(time.time()), name)\n",
    "    time.sleep(2)\n",
    "    print('FINISH EVENT:', time.ctime(time.time()), name)\n",
    "\n",
    "\n",
    "print('START:', time.ctime(time.time()))\n",
    "scheduler.enter(2, 1, long_event, ('first',))\n",
    "scheduler.enter(3, 1, long_event, ('second',))\n",
    "\n",
    "#The result is the second event is run immediately after the first finishes, since the first event took long enough to push the clock past the desired start time of the second event.\n",
    "scheduler.run()"
   ]
  },
  {
   "cell_type": "markdown",
   "metadata": {},
   "source": [
    "## Event Priority\n",
    "\n",
    "> If more than one event is scheduled for the same time their priority values are used to determine the order they are run."
   ]
  },
  {
   "cell_type": "code",
   "execution_count": 7,
   "metadata": {
    "collapsed": false
   },
   "outputs": [
    {
     "name": "stdout",
     "output_type": "stream",
     "text": [
      "START: Fri Jun 30 10:49:18 2017\n",
      "EVENT: Fri Jun 30 10:49:20 2017 second\n",
      "EVENT: Fri Jun 30 10:49:20 2017 first\n"
     ]
    }
   ],
   "source": [
    "import sched\n",
    "import time\n",
    "\n",
    "scheduler = sched.scheduler(time.time, time.sleep)\n",
    "\n",
    "\n",
    "def print_event(name):\n",
    "    print('EVENT:', time.ctime(time.time()), name)\n",
    "\n",
    "\n",
    "now = time.time()\n",
    "print('START:', time.ctime(now))\n",
    "#!!\n",
    "#enterabs => setting the time to run\n",
    "#smaller value higher priority\n",
    "scheduler.enterabs(now + 2, 2, print_event, ('first',))\n",
    "scheduler.enterabs(now + 2, 1, print_event, ('second',))\n",
    "\n",
    "scheduler.run()"
   ]
  },
  {
   "cell_type": "markdown",
   "metadata": {},
   "source": [
    "## Canceling Events\n",
    "\n",
    "> Both enter() and enterabs() return a reference to the event that can be used to cancel it later. Because run() blocks, the event has to be canceled in a different thread. For this example, a thread is started to run the scheduler and the main processing thread is used to cancel the event."
   ]
  },
  {
   "cell_type": "code",
   "execution_count": null,
   "metadata": {
    "collapsed": true
   },
   "outputs": [],
   "source": [
    "import sched\n",
    "import threading\n",
    "import time\n",
    "\n",
    "scheduler = sched.scheduler(time.time, time.sleep)\n",
    "\n",
    "# Set up a global to be modified by the threads\n",
    "counter = 0\n",
    "\n",
    "def increment_counter(name):\n",
    "    global counter\n",
    "    print('EVENT:', time.ctime(time.time()), name)\n",
    "    counter += 1\n",
    "    print('NOW:', counter)\n",
    "    \n",
    "print('START:', time.ctime(time.time()))\n",
    "e1 = scheduler.enter(2, 1, increment_counter, ('E1',))\n",
    "e2 = scheduler.enter(3, 1, increment_counter, ('E2',))\n",
    "\n",
    "# Start a thread to run the events\n",
    "t = threading.Thread(target=scheduler.run)\n",
    "t.start()\n",
    "\n",
    "# Back in the main thread, cancel the first scheduled event.\n",
    "scheduler.cancel(e1)\n",
    "\n",
    "# Wait for the scheduler to finish running in the thread\n",
    "t.join()\n",
    "\n",
    "print('FINAL:', counter)\n"
   ]
  },
  {
   "cell_type": "code",
   "execution_count": null,
   "metadata": {
    "collapsed": true
   },
   "outputs": [],
   "source": []
  },
  {
   "cell_type": "code",
   "execution_count": null,
   "metadata": {
    "collapsed": true
   },
   "outputs": [],
   "source": []
  },
  {
   "cell_type": "code",
   "execution_count": null,
   "metadata": {
    "collapsed": true
   },
   "outputs": [],
   "source": []
  },
  {
   "cell_type": "code",
   "execution_count": null,
   "metadata": {
    "collapsed": true
   },
   "outputs": [],
   "source": []
  },
  {
   "cell_type": "code",
   "execution_count": null,
   "metadata": {
    "collapsed": true
   },
   "outputs": [],
   "source": []
  },
  {
   "cell_type": "code",
   "execution_count": null,
   "metadata": {
    "collapsed": true
   },
   "outputs": [],
   "source": []
  },
  {
   "cell_type": "code",
   "execution_count": null,
   "metadata": {
    "collapsed": true
   },
   "outputs": [],
   "source": []
  },
  {
   "cell_type": "code",
   "execution_count": null,
   "metadata": {
    "collapsed": true
   },
   "outputs": [],
   "source": []
  },
  {
   "cell_type": "code",
   "execution_count": null,
   "metadata": {
    "collapsed": true
   },
   "outputs": [],
   "source": []
  },
  {
   "cell_type": "code",
   "execution_count": null,
   "metadata": {
    "collapsed": true
   },
   "outputs": [],
   "source": []
  },
  {
   "cell_type": "code",
   "execution_count": null,
   "metadata": {
    "collapsed": true
   },
   "outputs": [],
   "source": []
  },
  {
   "cell_type": "code",
   "execution_count": null,
   "metadata": {
    "collapsed": true
   },
   "outputs": [],
   "source": []
  },
  {
   "cell_type": "code",
   "execution_count": null,
   "metadata": {
    "collapsed": true
   },
   "outputs": [],
   "source": []
  },
  {
   "cell_type": "code",
   "execution_count": null,
   "metadata": {
    "collapsed": true
   },
   "outputs": [],
   "source": []
  },
  {
   "cell_type": "code",
   "execution_count": null,
   "metadata": {
    "collapsed": true
   },
   "outputs": [],
   "source": []
  },
  {
   "cell_type": "code",
   "execution_count": null,
   "metadata": {
    "collapsed": true
   },
   "outputs": [],
   "source": []
  }
 ],
 "metadata": {
  "kernelspec": {
   "display_name": "Python 3",
   "language": "python",
   "name": "python3"
  },
  "language_info": {
   "codemirror_mode": {
    "name": "ipython",
    "version": 3
   },
   "file_extension": ".py",
   "mimetype": "text/x-python",
   "name": "python",
   "nbconvert_exporter": "python",
   "pygments_lexer": "ipython3",
   "version": "3.6.0"
  }
 },
 "nbformat": 4,
 "nbformat_minor": 2
}
