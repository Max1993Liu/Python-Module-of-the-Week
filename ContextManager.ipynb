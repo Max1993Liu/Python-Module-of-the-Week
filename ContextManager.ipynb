{
 "cells": [
  {
   "cell_type": "markdown",
   "metadata": {},
   "source": [
    "A context manager is responsible for a resource within a code block, possibly creating it when the block is entered and then cleaning it up after the block is exited. For example, files support the context manager API to make it easy to ensure they are closed after all reading or writing is done.\n",
    "\n",
    "A context manager is enabled by the with statement, and the API involves two methods. The \\__enter\\__() method is run when execution flow enters the code block inside the with. It returns an object to be used within the context. When execution flow leaves the with block, the \\__exit\\__() method of the context manager is called to clean up any resources being used.\n",
    "\n"
   ]
  },
  {
   "cell_type": "code",
   "execution_count": 3,
   "metadata": {
    "collapsed": false
   },
   "outputs": [
    {
     "name": "stdout",
     "output_type": "stream",
     "text": [
      "Initialization\n",
      "Entering\n",
      "10\n",
      "Doing something!\n",
      "Exiting\n"
     ]
    }
   ],
   "source": [
    "class C(object):\n",
    "    \n",
    "    value = 10\n",
    "    \n",
    "    def __init__(self):\n",
    "        print 'Initialization'\n",
    "        \n",
    "    def __enter__(self):\n",
    "        print 'Entering'\n",
    "        #self is now assigned to f\n",
    "        return self\n",
    "    \n",
    "    def __exit__(self, exc_type, exc_val, exc_tb):\n",
    "        print 'Exiting'\n",
    "        \n",
    "        \n",
    "with C() as f:\n",
    "    print f.value\n",
    "    print 'Doing something!'"
   ]
  },
  {
   "cell_type": "markdown",
   "metadata": {},
   "source": [
    "The \\__exit\\__() method receives arguments containing details of any exception raised in the with block."
   ]
  },
  {
   "cell_type": "code",
   "execution_count": 6,
   "metadata": {
    "collapsed": false
   },
   "outputs": [
    {
     "name": "stdout",
     "output_type": "stream",
     "text": [
      "Initialization\n",
      "__exit__()\n",
      "('  exc_type =', <type 'exceptions.RuntimeError'>)\n",
      "('  exc_val  =', RuntimeError('error message handled',))\n",
      "('  exc_tb   =', <traceback object at 0x106277cf8>)\n"
     ]
    }
   ],
   "source": [
    "class C(object):\n",
    "    \n",
    "    def __init__(self, handle_error):\n",
    "        print 'Initialization'\n",
    "        self.handle_error = handle_error\n",
    "        \n",
    "    def __enter__(self):\n",
    "        return self\n",
    "    \n",
    "    def __exit__(self, exc_type, exc_val, exc_tb):\n",
    "        print('__exit__()')\n",
    "        print('  exc_type =', exc_type)\n",
    "        print('  exc_val  =', exc_val)\n",
    "        print('  exc_tb   =', exc_tb)\n",
    "        return self.handle_error\n",
    "    \n",
    "with C(True):\n",
    "    raise RuntimeError('error message handled')"
   ]
  },
  {
   "cell_type": "code",
   "execution_count": 8,
   "metadata": {
    "collapsed": false
   },
   "outputs": [
    {
     "name": "stdout",
     "output_type": "stream",
     "text": [
      "Initialization\n",
      "__exit__()\n",
      "('  exc_type =', <type 'exceptions.RuntimeError'>)\n",
      "('  exc_val  =', RuntimeError('error message propagated',))\n",
      "('  exc_tb   =', <traceback object at 0x106277c68>)\n"
     ]
    },
    {
     "ename": "RuntimeError",
     "evalue": "error message propagated",
     "output_type": "error",
     "traceback": [
      "\u001b[0;31m---------------------------------------------------------------------------\u001b[0m",
      "\u001b[0;31mRuntimeError\u001b[0m                              Traceback (most recent call last)",
      "\u001b[0;32m<ipython-input-8-0c2d0194f5dd>\u001b[0m in \u001b[0;36m<module>\u001b[0;34m()\u001b[0m\n\u001b[1;32m      1\u001b[0m \u001b[0;32mwith\u001b[0m \u001b[0mC\u001b[0m\u001b[0;34m(\u001b[0m\u001b[0mFalse\u001b[0m\u001b[0;34m)\u001b[0m\u001b[0;34m:\u001b[0m\u001b[0;34m\u001b[0m\u001b[0m\n\u001b[0;32m----> 2\u001b[0;31m     \u001b[0;32mraise\u001b[0m \u001b[0mRuntimeError\u001b[0m\u001b[0;34m(\u001b[0m\u001b[0;34m'error message propagated'\u001b[0m\u001b[0;34m)\u001b[0m\u001b[0;34m\u001b[0m\u001b[0m\n\u001b[0m",
      "\u001b[0;31mRuntimeError\u001b[0m: error message propagated"
     ]
    }
   ],
   "source": [
    "with C(False):\n",
    "    raise RuntimeError('error message propagated')"
   ]
  },
  {
   "cell_type": "markdown",
   "metadata": {},
   "source": [
    "If the context manager can handle the exception, __exit__() should return a true value to indicate that the exception does not need to be propagated. Returning false causes the exception to be re-raised after \\__exit\\__() returns.\n"
   ]
  },
  {
   "cell_type": "markdown",
   "metadata": {},
   "source": [
    "## Context Manager as Function Decorators\n",
    "The class ContextDecorator adds support to regular context manager classes to let them be used as function decorators as well as context managers.\n",
    "\n"
   ]
  },
  {
   "cell_type": "code",
   "execution_count": 17,
   "metadata": {
    "collapsed": false
   },
   "outputs": [
    {
     "name": "stdout",
     "output_type": "stream",
     "text": [
      "__init__(as decorator)\n",
      "\n",
      "__init__(as context manager)\n",
      "__enter__(as context manager)\n",
      "Doing work in the context\n",
      "__exit__(as context manager)\n",
      "\n",
      "__enter__(as decorator)\n",
      "Doing work in the wrapped function\n",
      "__exit__(as decorator)\n"
     ]
    }
   ],
   "source": [
    "import contextlib2\n",
    "\n",
    "class Context(contextlib2.ContextDecorator):\n",
    "    \n",
    "    def __init__(self, how_used):\n",
    "        self.how_used = how_used\n",
    "        print('__init__({})'.format(how_used))\n",
    "        \n",
    "    def __enter__(self):\n",
    "        print('__enter__({})'.format(self.how_used))\n",
    "        return self\n",
    "    \n",
    "    def __exit__(self, exc_type, exc_val, exc_tb):\n",
    "        print('__exit__({})'.format(self.how_used))\n",
    "\n",
    "\n",
    "@Context('as decorator')\n",
    "def func(message):\n",
    "    print message\n",
    "    \n",
    "\n",
    "print\n",
    "with Context('as context manager'):\n",
    "    print 'Doing work in the context'\n",
    "    \n",
    "print\n",
    "func('Doing work in the wrapped function')"
   ]
  },
  {
   "cell_type": "markdown",
   "metadata": {},
   "source": [
    "One difference with using the context manager as a decorator is that the value returned by \\__enter\\__() is not available inside the function being decorated, unlike when using with and as. Arguments passed to the decorated function are available in the usual way."
   ]
  },
  {
   "cell_type": "markdown",
   "metadata": {},
   "source": [
    "## From Generator to Context Manager\n",
    "Creating context managers the traditional way, by writing a class with \\__enter\\__() and \\__exit\\__() methods, is not difficult. But sometimes writing everything out fully is extra overhead for a trivial bit of context. In those sorts of situations, use the contextmanager() decorator to convert a generator function into a context manager."
   ]
  },
  {
   "cell_type": "code",
   "execution_count": 21,
   "metadata": {
    "collapsed": false
   },
   "outputs": [
    {
     "name": "stdout",
     "output_type": "stream",
     "text": [
      "Normal:\n",
      "  entering\n",
      "('  inside with statement:', 'inside value')\n",
      "  exiting\n",
      "\n",
      "Handled error:\n",
      "  entering\n",
      "  ERROR: showing example of handling an error\n",
      "  exiting\n",
      "\n",
      "Unhandled error:\n",
      "  entering\n",
      "  exiting\n"
     ]
    },
    {
     "ename": "ValueError",
     "evalue": "this exception is not handled",
     "output_type": "error",
     "traceback": [
      "\u001b[0;31m---------------------------------------------------------------------------\u001b[0m",
      "\u001b[0;31mValueError\u001b[0m                                Traceback (most recent call last)",
      "\u001b[0;32m<ipython-input-21-5efecf613cc7>\u001b[0m in \u001b[0;36m<module>\u001b[0;34m()\u001b[0m\n\u001b[1;32m     21\u001b[0m \u001b[0;32mprint\u001b[0m\u001b[0;34m(\u001b[0m\u001b[0;34m'\\nUnhandled error:'\u001b[0m\u001b[0;34m)\u001b[0m\u001b[0;34m\u001b[0m\u001b[0m\n\u001b[1;32m     22\u001b[0m \u001b[0;32mwith\u001b[0m \u001b[0mmake_context\u001b[0m\u001b[0;34m(\u001b[0m\u001b[0;34m)\u001b[0m \u001b[0;32mas\u001b[0m \u001b[0mvalue\u001b[0m\u001b[0;34m:\u001b[0m\u001b[0;34m\u001b[0m\u001b[0m\n\u001b[0;32m---> 23\u001b[0;31m     \u001b[0;32mraise\u001b[0m \u001b[0mValueError\u001b[0m\u001b[0;34m(\u001b[0m\u001b[0;34m'this exception is not handled'\u001b[0m\u001b[0;34m)\u001b[0m\u001b[0;34m\u001b[0m\u001b[0m\n\u001b[0m",
      "\u001b[0;31mValueError\u001b[0m: this exception is not handled"
     ]
    }
   ],
   "source": [
    "import contextlib\n",
    "\n",
    "@contextlib.contextmanager\n",
    "def make_context():\n",
    "    print '  entering'\n",
    "    try:\n",
    "        yield 'inside value'\n",
    "    except RuntimeError as err:\n",
    "        print '  ERROR:', err\n",
    "    finally:\n",
    "        print '  exiting'\n",
    "        \n",
    "print('Normal:')\n",
    "with make_context() as value:\n",
    "    print('  inside with statement:', value)\n",
    "    \n",
    "print('\\nHandled error:')\n",
    "with make_context() as value:\n",
    "    raise RuntimeError('showing example of handling an error')\n",
    "\n",
    "print('\\nUnhandled error:')\n",
    "with make_context() as value:\n",
    "    raise ValueError('this exception is not handled')\n"
   ]
  },
  {
   "cell_type": "markdown",
   "metadata": {},
   "source": [
    "The generator should initialize the context, yield exactly one time, then clean up the context. The value yielded, if any, is bound to the variable in the as clause of the with statement. Exceptions from within the with block are re-raised inside the generator, so they can be handled there."
   ]
  },
  {
   "cell_type": "markdown",
   "metadata": {},
   "source": [
    "## Closing Open Handles\n",
    "\n",
    "The file class supports the context manager API directly, but some other objects that represent open handles do not. The example given in the standard library documentation for contextlib is the object returned from urllib.urlopen(). There are other legacy classes that use a close() method but do not support the context manager API. To ensure that a handle is closed, use closing() to create a context manager for it.\n",
    "\n"
   ]
  },
  {
   "cell_type": "code",
   "execution_count": 24,
   "metadata": {
    "collapsed": false
   },
   "outputs": [
    {
     "name": "stdout",
     "output_type": "stream",
     "text": [
      "Normal Example:\n",
      "Initialization\n",
      "open\n",
      "Closing\n",
      "closed\n",
      "\n",
      "Error handling example:\n",
      "Initialization\n",
      "  raising from inside with statement\n",
      "Closing\n",
      "('  Had an error:', RuntimeError('error message',))\n"
     ]
    }
   ],
   "source": [
    "import contextlib\n",
    "\n",
    "class Door(object):\n",
    "    \n",
    "    value = 2\n",
    "    \n",
    "    def __init__(self):\n",
    "        print 'Initialization'\n",
    "        self.status = 'open'\n",
    "        \n",
    "    def close(self):\n",
    "        print 'Closing'\n",
    "        self.status = 'closed'\n",
    "        \n",
    "print 'Normal Example:'\n",
    "with contextlib.closing(Door()) as door:\n",
    "    print door.status\n",
    "print door.status\n",
    "\n",
    "print('\\nError handling example:')\n",
    "try:\n",
    "    with contextlib.closing(Door()) as door:\n",
    "        print('  raising from inside with statement')\n",
    "        raise RuntimeError('error message')\n",
    "except Exception as err:\n",
    "    print('  Had an error:', err)"
   ]
  },
  {
   "cell_type": "markdown",
   "metadata": {},
   "source": [
    "## Redirecting output streams\n",
    "Poorly designed library code may write directly to sys.stdout or sys.stderr, without providing arguments to configure different output destinations. The redirect_stdout() and redirect_stderr() context managers can be used to capture output from functions like this, for which the source cannot be changed to accept a new output argument."
   ]
  },
  {
   "cell_type": "code",
   "execution_count": 31,
   "metadata": {
    "collapsed": false
   },
   "outputs": [
    {
     "name": "stdout",
     "output_type": "stream",
     "text": [
      "(stdout) A: 5\n",
      "(stderr) A: 5\n",
      "\n"
     ]
    }
   ],
   "source": [
    "from contextlib2 import redirect_stdout, redirect_stderr\n",
    "import io\n",
    "import sys\n",
    "\n",
    "def misbehaving_function(a):\n",
    "    sys.stdout.write('(stdout) A: {}\\n'.format(a))\n",
    "    sys.stderr.write('(stderr) A: {}\\n'.format(a))\n",
    "\n",
    "capture = io.BytesIO()\n",
    "with redirect_stdout(capture), redirect_stderr(capture):\n",
    "    misbehaving_function(5)\n",
    "    \n",
    "print capture.getvalue()"
   ]
  },
  {
   "cell_type": "markdown",
   "metadata": {},
   "source": [
    "## Dynamic Context Manager Stacks\n",
    "Most context managers operate on one object at a time, such as a single file or database handle. In these cases, the object is known in advance and the code using the context manager can be built around that one object. In other cases, a program may need to create an unknown number of objects in a context, while wanting all of them to be cleaned up when control flow exits the context. ExitStack was created to handle these more dynamic cases.\n",
    "\n",
    "An ExitStack instance maintains a stack data structure of cleanup callbacks. The callbacks are populated explicitly within the context, and any registered callbacks are called in the reverse order when control flow exits the context. The result is like having multple nested with statements, except they are established dynamically."
   ]
  },
  {
   "cell_type": "code",
   "execution_count": 33,
   "metadata": {
    "collapsed": false
   },
   "outputs": [
    {
     "name": "stdout",
     "output_type": "stream",
     "text": [
      "0 entering\n",
      "1 entering\n",
      "inside context\n",
      "1 exiting\n",
      "0 exiting\n"
     ]
    }
   ],
   "source": [
    "import contextlib\n",
    "\n",
    "@contextlib.contextmanager\n",
    "def make_context(i):\n",
    "    print '{} entering'.format(i)\n",
    "    yield {}\n",
    "    print '{} exiting'.format(i)\n",
    "    \n",
    "def variable_stack(n, msg):\n",
    "    with contextlib2.ExitStack() as stack:\n",
    "        for i in range(n):\n",
    "            stack.enter_context(make_context(i))\n",
    "        print(msg)\n",
    "\n",
    "variable_stack(2, 'inside context')"
   ]
  },
  {
   "cell_type": "code",
   "execution_count": null,
   "metadata": {
    "collapsed": true
   },
   "outputs": [],
   "source": []
  },
  {
   "cell_type": "code",
   "execution_count": null,
   "metadata": {
    "collapsed": true
   },
   "outputs": [],
   "source": []
  },
  {
   "cell_type": "code",
   "execution_count": null,
   "metadata": {
    "collapsed": true
   },
   "outputs": [],
   "source": []
  },
  {
   "cell_type": "code",
   "execution_count": null,
   "metadata": {
    "collapsed": true
   },
   "outputs": [],
   "source": []
  },
  {
   "cell_type": "code",
   "execution_count": null,
   "metadata": {
    "collapsed": true
   },
   "outputs": [],
   "source": []
  },
  {
   "cell_type": "code",
   "execution_count": null,
   "metadata": {
    "collapsed": true
   },
   "outputs": [],
   "source": []
  }
 ],
 "metadata": {
  "kernelspec": {
   "display_name": "Python [Root]",
   "language": "python",
   "name": "Python [Root]"
  },
  "language_info": {
   "codemirror_mode": {
    "name": "ipython",
    "version": 2
   },
   "file_extension": ".py",
   "mimetype": "text/x-python",
   "name": "python",
   "nbconvert_exporter": "python",
   "pygments_lexer": "ipython2",
   "version": "2.7.12"
  }
 },
 "nbformat": 4,
 "nbformat_minor": 0
}
