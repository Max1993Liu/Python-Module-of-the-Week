{
 "cells": [
  {
   "cell_type": "markdown",
   "metadata": {},
   "source": [
    "The struct module includes functions for converting between strings of bytes and native Python data types such as numbers and strings."
   ]
  },
  {
   "cell_type": "markdown",
   "metadata": {},
   "source": [
    "## Packing and unpacking\n",
    "Structs support packing data into strings, and unpacking data from strings using format specifiers made up of characters representing the type of the data and optional count and endianness indicators. Refer to the standard library documentation for a complete list of the supported format specifiers.\n",
    "\n",
    "In this example, the specifier calls for an integer or long integer value, a two-byte string, and a floating-point number. The spaces in the format specifier are included to separate the type indicators, and are ignored when the format is compiled."
   ]
  },
  {
   "cell_type": "code",
   "execution_count": 13,
   "metadata": {
    "collapsed": false
   },
   "outputs": [
    {
     "name": "stdout",
     "output_type": "stream",
     "text": [
      "('Original values:', (1, 'ab', 2.7))\n",
      "('Format string  :', 'I 2s f')\n",
      "('Uses           :', 12, 'bytes')\n",
      "('Packed Value   :', '0100000061620000cdcc2c40')\n"
     ]
    }
   ],
   "source": [
    "import struct\n",
    "import binascii\n",
    "\n",
    "values = (1, 'ab'.encode('utf-8'), 2.7)\n",
    "s = struct.Struct('I 2s f')\n",
    "packed_data = s.pack(*values)\n",
    "\n",
    "print('Original values:', values)\n",
    "print('Format string  :', s.format)\n",
    "print('Uses           :', s.size, 'bytes')\n",
    "#hexlify: binary to ascii code\n",
    "print('Packed Value   :', binascii.hexlify(packed_data))"
   ]
  },
  {
   "cell_type": "code",
   "execution_count": 23,
   "metadata": {
    "collapsed": false
   },
   "outputs": [
    {
     "name": "stdout",
     "output_type": "stream",
     "text": [
      "(1, 'ab', 2.700000047683716)\n"
     ]
    }
   ],
   "source": [
    "#unpacking\n",
    "packed_data = binascii.unhexlify('0100000061620000cdcc2c40')\n",
    "unpacked_data = s.unpack(packed_data)\n",
    "print unpacked_data"
   ]
  },
  {
   "cell_type": "markdown",
   "metadata": {},
   "source": [
    "## Buffers\n",
    "Working with binary packed data is typically reserved for performance-sensitive situations or passing data into and out of extension modules. These cases can be optimized by avoiding the overhead of allocating a new buffer for each packed structure. The pack_into() and unpack_from() methods support writing to pre-allocated buffers directly."
   ]
  },
  {
   "cell_type": "code",
   "execution_count": 27,
   "metadata": {
    "collapsed": false
   },
   "outputs": [
    {
     "name": "stdout",
     "output_type": "stream",
     "text": [
      "Original: (1, 'ab', 2.7)\n",
      "\n",
      "ctypes string buffer\n",
      "('Before  :', '000000000000000000000000')\n",
      "('After   :', '0100000061620000cdcc2c40')\n",
      "('Unpacked:', (1, 'ab', 2.700000047683716))\n"
     ]
    }
   ],
   "source": [
    "import array\n",
    "import binascii\n",
    "import ctypes\n",
    "import struct\n",
    "\n",
    "s = struct.Struct('I 2s f')\n",
    "values = (1, 'ab'.encode('utf-8'), 2.7)\n",
    "print 'Original:', values\n",
    "\n",
    "print\n",
    "print('ctypes string buffer')\n",
    "\n",
    "b = ctypes.create_string_buffer(s.size)\n",
    "print('Before  :', binascii.hexlify(b.raw))\n",
    "s.pack_into(b, 0, *values)\n",
    "print('After   :', binascii.hexlify(b.raw))\n",
    "print('Unpacked:', s.unpack_from(b, 0))"
   ]
  },
  {
   "cell_type": "code",
   "execution_count": 25,
   "metadata": {
    "collapsed": true
   },
   "outputs": [],
   "source": []
  },
  {
   "cell_type": "code",
   "execution_count": null,
   "metadata": {
    "collapsed": true
   },
   "outputs": [],
   "source": []
  },
  {
   "cell_type": "code",
   "execution_count": null,
   "metadata": {
    "collapsed": true
   },
   "outputs": [],
   "source": []
  },
  {
   "cell_type": "code",
   "execution_count": null,
   "metadata": {
    "collapsed": true
   },
   "outputs": [],
   "source": []
  },
  {
   "cell_type": "code",
   "execution_count": null,
   "metadata": {
    "collapsed": true
   },
   "outputs": [],
   "source": []
  }
 ],
 "metadata": {
  "kernelspec": {
   "display_name": "Python [Root]",
   "language": "python",
   "name": "Python [Root]"
  },
  "language_info": {
   "codemirror_mode": {
    "name": "ipython",
    "version": 2
   },
   "file_extension": ".py",
   "mimetype": "text/x-python",
   "name": "python",
   "nbconvert_exporter": "python",
   "pygments_lexer": "ipython2",
   "version": "2.7.12"
  }
 },
 "nbformat": 4,
 "nbformat_minor": 0
}
