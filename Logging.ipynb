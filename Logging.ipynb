{
 "cells": [
  {
   "cell_type": "code",
   "execution_count": 1,
   "metadata": {
    "collapsed": true
   },
   "outputs": [],
   "source": [
    "import logging"
   ]
  },
  {
   "cell_type": "code",
   "execution_count": 5,
   "metadata": {
    "collapsed": false
   },
   "outputs": [],
   "source": [
    "#logging to a file\n",
    "LOG_FILE = \"./logging_file.out\"\n",
    "logging.basicConfig(\n",
    "    filename = LOG_FILE, \n",
    "    level = logging.DEBUG\n",
    ")\n",
    "\n",
    "for i in range(5):\n",
    "    logging.debug('Runing fine')\n"
   ]
  },
  {
   "cell_type": "code",
   "execution_count": 11,
   "metadata": {
    "collapsed": false
   },
   "outputs": [],
   "source": [
    "#creating a new log file every time with rotating log files\n",
    "import glob\n",
    "import logging\n",
    "import logging.handlers\n",
    "\n",
    "LOG_FILE = \"logging_rotate.out\"\n",
    "\n",
    "#set up a specific logger\n",
    "my_logger = logging.getLogger('MyLogger')\n",
    "my_logger.setLevel(logging.DEBUG)\n",
    "\n",
    "#add log message handler\n",
    "handler = logging.handlers.RotatingFileHandler(\n",
    "    LOG_FILE,\n",
    "    maxBytes=20,\n",
    "    backupCount=5\n",
    ")\n",
    "my_logger.addHandler(handler)\n",
    "\n",
    "for i in range(20):\n",
    "    my_logger.debug('i = %d' %i)\n"
   ]
  },
  {
   "cell_type": "markdown",
   "metadata": {},
   "source": [
    "## Verbosity Levels\n",
    "> Another useful feature of the logging API is the ability to produce different messages at different log levels. This means code can be instrumented with debug messages, for example, and the log level can be set so that those debug messages are not written on a production system. the table below lists the logging levels defined by logging.\n",
    "\n",
    "> CRITICAL -> 50  \n",
    "ERROR    -> 40  \n",
    "WARNING  -> 30  \n",
    "INFO     -> 20  \n",
    "DEBUG    -> 10  \n",
    "UNSET    -> 0  \n",
    "\n",
    "> The log message is only emitted if the handler and logger are configured to emit messages of that level or higher. For example, if a message is CRITICAL, and the logger is set to ERROR, the message is emitted (50 > 40). If a message is a WARNING, and the logger is set to produce only messages set to ERROR, the message is not emitted (30 < 40)."
   ]
  },
  {
   "cell_type": "code",
   "execution_count": 3,
   "metadata": {
    "collapsed": false
   },
   "outputs": [
    {
     "name": "stdout",
     "output_type": "stream",
     "text": [
      "CRITICAL:root:Critical message\n"
     ]
    }
   ],
   "source": [
    "import logging \n",
    "import sys\n",
    "\n",
    "LEVELS = {\n",
    "    'debug': logging.DEBUG,\n",
    "    'info': logging.INFO,\n",
    "    'warning': logging.WARNING,\n",
    "    'error': logging.ERROR,\n",
    "    'critical': logging.CRITICAL,\n",
    "}\n",
    "\n",
    "LOG_FILE = \"./logging_file.out\"\n",
    "\n",
    "def emit_message(l):\n",
    "    level = LEVELS[l]\n",
    "    \n",
    "    #streamline handler to stdout\n",
    "    #note that it no longer writes to the file\n",
    "    logging.basicConfig(level=level, stream=sys.stdout)\n",
    "    \n",
    "    logging.debug('Debug message')\n",
    "    logging.info('Info message')\n",
    "    logging.warning('Warning message')\n",
    "    logging.error('Error message')\n",
    "    logging.critical('Critical message')\n",
    "    \n",
    "#notice that once the logging is configured, you need to restart the kernel to reconfigure it\n",
    "emit_message('debug')"
   ]
  },
  {
   "cell_type": "markdown",
   "metadata": {},
   "source": [
    "## Naming Logger Instances\n",
    "\n",
    "> All of the previous log messages all have ‘root’ embedded in them because the code uses the root logger. An easy way to tell where a specific log message comes from is to use a separate logger object for each module. Log messages sent to a logger include the name of that logger. Here is an example of how to log from different modules so it is easy to trace the source of the message.\n"
   ]
  },
  {
   "cell_type": "code",
   "execution_count": 1,
   "metadata": {
    "collapsed": false
   },
   "outputs": [
    {
     "name": "stdout",
     "output_type": "stream",
     "text": [
      "WARNING:package1.module1:This message comes from one module\n",
      "WARNING:package2.module2:This comes from another module\n"
     ]
    }
   ],
   "source": [
    "import logging\n",
    "import sys\n",
    "\n",
    "logging.basicConfig(level=logging.WARNING, stream=sys.stdout)\n",
    "\n",
    "logger1 = logging.getLogger('package1.module1')\n",
    "logger2 = logging.getLogger('package2.module2')\n",
    "\n",
    "logger1.warning('This message comes from one module')\n",
    "logger2.warning('This comes from another module')"
   ]
  },
  {
   "cell_type": "code",
   "execution_count": null,
   "metadata": {
    "collapsed": true
   },
   "outputs": [],
   "source": []
  },
  {
   "cell_type": "code",
   "execution_count": null,
   "metadata": {
    "collapsed": true
   },
   "outputs": [],
   "source": []
  },
  {
   "cell_type": "code",
   "execution_count": null,
   "metadata": {
    "collapsed": true
   },
   "outputs": [],
   "source": []
  },
  {
   "cell_type": "code",
   "execution_count": null,
   "metadata": {
    "collapsed": true
   },
   "outputs": [],
   "source": []
  },
  {
   "cell_type": "code",
   "execution_count": null,
   "metadata": {
    "collapsed": true
   },
   "outputs": [],
   "source": []
  },
  {
   "cell_type": "code",
   "execution_count": null,
   "metadata": {
    "collapsed": true
   },
   "outputs": [],
   "source": []
  },
  {
   "cell_type": "code",
   "execution_count": null,
   "metadata": {
    "collapsed": true
   },
   "outputs": [],
   "source": []
  },
  {
   "cell_type": "code",
   "execution_count": null,
   "metadata": {
    "collapsed": true
   },
   "outputs": [],
   "source": []
  },
  {
   "cell_type": "code",
   "execution_count": null,
   "metadata": {
    "collapsed": true
   },
   "outputs": [],
   "source": []
  },
  {
   "cell_type": "code",
   "execution_count": null,
   "metadata": {
    "collapsed": true
   },
   "outputs": [],
   "source": []
  }
 ],
 "metadata": {
  "kernelspec": {
   "display_name": "Python 3",
   "language": "python",
   "name": "python3"
  },
  "language_info": {
   "codemirror_mode": {
    "name": "ipython",
    "version": 3
   },
   "file_extension": ".py",
   "mimetype": "text/x-python",
   "name": "python",
   "nbconvert_exporter": "python",
   "pygments_lexer": "ipython3",
   "version": "3.6.0"
  }
 },
 "nbformat": 4,
 "nbformat_minor": 2
}
